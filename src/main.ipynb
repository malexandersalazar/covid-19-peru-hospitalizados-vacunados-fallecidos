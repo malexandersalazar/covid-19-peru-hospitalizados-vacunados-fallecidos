{
 "cells": [
  {
   "cell_type": "code",
   "execution_count": 56,
   "metadata": {},
   "outputs": [],
   "source": [
    "import pandas as pd\n",
    "from pySankey.sankey import sankey\n",
    "import plotly.graph_objects as go\n",
    "from datetime import datetime as DateTime"
   ]
  },
  {
   "cell_type": "markdown",
   "metadata": {},
   "source": [
    "## Proceso"
   ]
  },
  {
   "cell_type": "markdown",
   "metadata": {},
   "source": [
    "### Adquisición de datos"
   ]
  },
  {
   "cell_type": "code",
   "execution_count": 57,
   "metadata": {},
   "outputs": [
    {
     "data": {
      "text/html": [
       "<div>\n",
       "<style scoped>\n",
       "    .dataframe tbody tr th:only-of-type {\n",
       "        vertical-align: middle;\n",
       "    }\n",
       "\n",
       "    .dataframe tbody tr th {\n",
       "        vertical-align: top;\n",
       "    }\n",
       "\n",
       "    .dataframe thead th {\n",
       "        text-align: right;\n",
       "    }\n",
       "</style>\n",
       "<table border=\"1\" class=\"dataframe\">\n",
       "  <thead>\n",
       "    <tr style=\"text-align: right;\">\n",
       "      <th></th>\n",
       "      <th>eess_renaes</th>\n",
       "      <th>eess_diresa</th>\n",
       "      <th>eess_red</th>\n",
       "      <th>eess_nombre</th>\n",
       "      <th>id_eess</th>\n",
       "      <th>id_persona</th>\n",
       "      <th>edad</th>\n",
       "      <th>sexo</th>\n",
       "      <th>fecha_ingreso_hosp</th>\n",
       "      <th>flag_uci</th>\n",
       "      <th>...</th>\n",
       "      <th>fabricante_dosis2</th>\n",
       "      <th>fecha_dosis3</th>\n",
       "      <th>fabricante_dosis3</th>\n",
       "      <th>cdc_positividad</th>\n",
       "      <th>cdc_fecha_fallecido_covid</th>\n",
       "      <th>cdc_fallecido_covid</th>\n",
       "      <th>ubigeo_inei_domicilio</th>\n",
       "      <th>dep_domicilio</th>\n",
       "      <th>prov_domicilio</th>\n",
       "      <th>dist_domicilio</th>\n",
       "    </tr>\n",
       "  </thead>\n",
       "  <tbody>\n",
       "    <tr>\n",
       "      <th>0</th>\n",
       "      <td>6206</td>\n",
       "      <td>LIMA DIRIS CENTRO</td>\n",
       "      <td>NO PERTENECE A NINGUNA RED</td>\n",
       "      <td>NACIONAL  DOS DE MAYO</td>\n",
       "      <td>6203</td>\n",
       "      <td>30859896</td>\n",
       "      <td>23.0</td>\n",
       "      <td>F</td>\n",
       "      <td>7/01/2021</td>\n",
       "      <td>0</td>\n",
       "      <td>...</td>\n",
       "      <td>SINOPHARM</td>\n",
       "      <td>NaN</td>\n",
       "      <td>NaN</td>\n",
       "      <td>1</td>\n",
       "      <td>NaN</td>\n",
       "      <td>0</td>\n",
       "      <td>150132</td>\n",
       "      <td>LIMA</td>\n",
       "      <td>LIMA</td>\n",
       "      <td>SAN JUAN DE LURIGANCHO</td>\n",
       "    </tr>\n",
       "    <tr>\n",
       "      <th>1</th>\n",
       "      <td>6216</td>\n",
       "      <td>LIMA DIRIS CENTRO</td>\n",
       "      <td>NO PERTENECE A NINGUNA RED</td>\n",
       "      <td>INSTITUTO NACIONAL DE SALUD DEL NIÑO</td>\n",
       "      <td>6213</td>\n",
       "      <td>29153148</td>\n",
       "      <td>3.0</td>\n",
       "      <td>M</td>\n",
       "      <td>16/11/2021</td>\n",
       "      <td>0</td>\n",
       "      <td>...</td>\n",
       "      <td>NaN</td>\n",
       "      <td>NaN</td>\n",
       "      <td>NaN</td>\n",
       "      <td>0</td>\n",
       "      <td>NaN</td>\n",
       "      <td>0</td>\n",
       "      <td>150132</td>\n",
       "      <td>LIMA</td>\n",
       "      <td>LIMA</td>\n",
       "      <td>SAN JUAN DE LURIGANCHO</td>\n",
       "    </tr>\n",
       "    <tr>\n",
       "      <th>2</th>\n",
       "      <td>23159</td>\n",
       "      <td>LIMA DIRIS SUR</td>\n",
       "      <td>NO PERTENECE A NINGUNA RED</td>\n",
       "      <td>HOSPITAL DE EMERGENCIAS VILLA EL SALVADOR</td>\n",
       "      <td>21646</td>\n",
       "      <td>4574996</td>\n",
       "      <td>57.0</td>\n",
       "      <td>M</td>\n",
       "      <td>10/03/2021</td>\n",
       "      <td>0</td>\n",
       "      <td>...</td>\n",
       "      <td>SINOPHARM</td>\n",
       "      <td>30/12/2021</td>\n",
       "      <td>PFIZER</td>\n",
       "      <td>1</td>\n",
       "      <td>NaN</td>\n",
       "      <td>0</td>\n",
       "      <td>150132</td>\n",
       "      <td>LIMA</td>\n",
       "      <td>LIMA</td>\n",
       "      <td>SAN JUAN DE LURIGANCHO</td>\n",
       "    </tr>\n",
       "    <tr>\n",
       "      <th>3</th>\n",
       "      <td>5617</td>\n",
       "      <td>LIMA DIRIS CENTRO</td>\n",
       "      <td>NO PERTENECE A NINGUNA RED</td>\n",
       "      <td>HOSPITAL SAN JUAN DE LURIGANCHO</td>\n",
       "      <td>5614</td>\n",
       "      <td>5390078</td>\n",
       "      <td>75.0</td>\n",
       "      <td>F</td>\n",
       "      <td>25/01/2021</td>\n",
       "      <td>0</td>\n",
       "      <td>...</td>\n",
       "      <td>PFIZER</td>\n",
       "      <td>NaN</td>\n",
       "      <td>NaN</td>\n",
       "      <td>1</td>\n",
       "      <td>NaN</td>\n",
       "      <td>0</td>\n",
       "      <td>150132</td>\n",
       "      <td>LIMA</td>\n",
       "      <td>LIMA</td>\n",
       "      <td>SAN JUAN DE LURIGANCHO</td>\n",
       "    </tr>\n",
       "    <tr>\n",
       "      <th>4</th>\n",
       "      <td>5946</td>\n",
       "      <td>LIMA DIRIS ESTE</td>\n",
       "      <td>NO PERTENECE A NINGUNA RED</td>\n",
       "      <td>HOSPITAL NACIONAL HIPOLITO UNANUE</td>\n",
       "      <td>5943</td>\n",
       "      <td>5579829</td>\n",
       "      <td>80.0</td>\n",
       "      <td>M</td>\n",
       "      <td>1/06/2020</td>\n",
       "      <td>0</td>\n",
       "      <td>...</td>\n",
       "      <td>PFIZER</td>\n",
       "      <td>27/11/2021</td>\n",
       "      <td>PFIZER</td>\n",
       "      <td>1</td>\n",
       "      <td>NaN</td>\n",
       "      <td>0</td>\n",
       "      <td>150132</td>\n",
       "      <td>LIMA</td>\n",
       "      <td>LIMA</td>\n",
       "      <td>SAN JUAN DE LURIGANCHO</td>\n",
       "    </tr>\n",
       "  </tbody>\n",
       "</table>\n",
       "<p>5 rows × 30 columns</p>\n",
       "</div>"
      ],
      "text/plain": [
       "   eess_renaes        eess_diresa                    eess_red  \\\n",
       "0         6206  LIMA DIRIS CENTRO  NO PERTENECE A NINGUNA RED   \n",
       "1         6216  LIMA DIRIS CENTRO  NO PERTENECE A NINGUNA RED   \n",
       "2        23159     LIMA DIRIS SUR  NO PERTENECE A NINGUNA RED   \n",
       "3         5617  LIMA DIRIS CENTRO  NO PERTENECE A NINGUNA RED   \n",
       "4         5946    LIMA DIRIS ESTE  NO PERTENECE A NINGUNA RED   \n",
       "\n",
       "                                 eess_nombre  id_eess  id_persona  edad sexo  \\\n",
       "0                      NACIONAL  DOS DE MAYO     6203    30859896  23.0    F   \n",
       "1       INSTITUTO NACIONAL DE SALUD DEL NIÑO     6213    29153148   3.0    M   \n",
       "2  HOSPITAL DE EMERGENCIAS VILLA EL SALVADOR    21646     4574996  57.0    M   \n",
       "3            HOSPITAL SAN JUAN DE LURIGANCHO     5614     5390078  75.0    F   \n",
       "4          HOSPITAL NACIONAL HIPOLITO UNANUE     5943     5579829  80.0    M   \n",
       "\n",
       "  fecha_ingreso_hosp  flag_uci  ... fabricante_dosis2 fecha_dosis3  \\\n",
       "0          7/01/2021         0  ...         SINOPHARM          NaN   \n",
       "1         16/11/2021         0  ...               NaN          NaN   \n",
       "2         10/03/2021         0  ...         SINOPHARM   30/12/2021   \n",
       "3         25/01/2021         0  ...            PFIZER          NaN   \n",
       "4          1/06/2020         0  ...            PFIZER   27/11/2021   \n",
       "\n",
       "   fabricante_dosis3  cdc_positividad cdc_fecha_fallecido_covid  \\\n",
       "0                NaN                1                       NaN   \n",
       "1                NaN                0                       NaN   \n",
       "2             PFIZER                1                       NaN   \n",
       "3                NaN                1                       NaN   \n",
       "4             PFIZER                1                       NaN   \n",
       "\n",
       "  cdc_fallecido_covid  ubigeo_inei_domicilio dep_domicilio prov_domicilio  \\\n",
       "0                   0                 150132          LIMA           LIMA   \n",
       "1                   0                 150132          LIMA           LIMA   \n",
       "2                   0                 150132          LIMA           LIMA   \n",
       "3                   0                 150132          LIMA           LIMA   \n",
       "4                   0                 150132          LIMA           LIMA   \n",
       "\n",
       "           dist_domicilio  \n",
       "0  SAN JUAN DE LURIGANCHO  \n",
       "1  SAN JUAN DE LURIGANCHO  \n",
       "2  SAN JUAN DE LURIGANCHO  \n",
       "3  SAN JUAN DE LURIGANCHO  \n",
       "4  SAN JUAN DE LURIGANCHO  \n",
       "\n",
       "[5 rows x 30 columns]"
      ]
     },
     "execution_count": 57,
     "metadata": {},
     "output_type": "execute_result"
    }
   ],
   "source": [
    "## Cargamos los datos\n",
    "df = pd.read_csv('data/TB_HOSP_VAC_FALLECIDOS.csv')\n",
    "df.head(5)"
   ]
  },
  {
   "cell_type": "code",
   "execution_count": 58,
   "metadata": {},
   "outputs": [
    {
     "data": {
      "text/plain": [
       "Index(['eess_renaes', 'eess_diresa', 'eess_red', 'eess_nombre', 'id_eess',\n",
       "       'id_persona', 'edad', 'sexo', 'fecha_ingreso_hosp', 'flag_uci',\n",
       "       'fecha_ingreso_uci', 'fecha_ingreso_ucin', 'con_oxigeno',\n",
       "       'con_ventilacion', 'fecha_segumiento_hosp_ultimo',\n",
       "       'evolucion_hosp_ultimo', 'flag_vacuna', 'fecha_dosis1',\n",
       "       'fabricante_dosis1', 'fecha_dosis2', 'fabricante_dosis2',\n",
       "       'fecha_dosis3', 'fabricante_dosis3', 'cdc_positividad',\n",
       "       'cdc_fecha_fallecido_covid', 'cdc_fallecido_covid',\n",
       "       'ubigeo_inei_domicilio', 'dep_domicilio', 'prov_domicilio',\n",
       "       'dist_domicilio'],\n",
       "      dtype='object')"
      ]
     },
     "execution_count": 58,
     "metadata": {},
     "output_type": "execute_result"
    }
   ],
   "source": [
    "df.columns"
   ]
  },
  {
   "cell_type": "markdown",
   "metadata": {},
   "source": [
    "### Limpieza y transformación de datos"
   ]
  },
  {
   "cell_type": "code",
   "execution_count": 59,
   "metadata": {},
   "outputs": [],
   "source": [
    "## Generamos las columnas necesarias para graficar\n",
    "df['UCI'] = 'NO UCI'\n",
    "df.loc[df[df['flag_uci'] == 1].index,'UCI'] = 'UCI'\n",
    "df['FALLECIDO'] = 'NO FALLECIDO'\n",
    "df.loc[df[df['cdc_fallecido_covid'] == 1].index,'FALLECIDO'] = 'FALLECIDO'\n",
    "df['DOSIS'] = 'SIN VACUNA'\n",
    "df.loc[df[df['fecha_dosis1'].notna()].index,'DOSIS'] = 'DOSIS: 1'\n",
    "df.loc[df[df['fecha_dosis2'].notna()].index,'DOSIS'] = 'DOSIS: 2'\n",
    "df.loc[df[df['fecha_dosis3'].notna()].index,'DOSIS'] = 'DOSIS: 3'\n"
   ]
  },
  {
   "cell_type": "code",
   "execution_count": 60,
   "metadata": {},
   "outputs": [
    {
     "data": {
      "text/html": [
       "<div>\n",
       "<style scoped>\n",
       "    .dataframe tbody tr th:only-of-type {\n",
       "        vertical-align: middle;\n",
       "    }\n",
       "\n",
       "    .dataframe tbody tr th {\n",
       "        vertical-align: top;\n",
       "    }\n",
       "\n",
       "    .dataframe thead th {\n",
       "        text-align: right;\n",
       "    }\n",
       "</style>\n",
       "<table border=\"1\" class=\"dataframe\">\n",
       "  <thead>\n",
       "    <tr style=\"text-align: right;\">\n",
       "      <th></th>\n",
       "      <th>flag_vacuna</th>\n",
       "      <th>fecha_dosis1</th>\n",
       "      <th>fecha_dosis2</th>\n",
       "      <th>fecha_dosis3</th>\n",
       "      <th>DOSIS</th>\n",
       "      <th>flag_uci</th>\n",
       "      <th>UCI</th>\n",
       "      <th>cdc_fallecido_covid</th>\n",
       "      <th>FALLECIDO</th>\n",
       "    </tr>\n",
       "  </thead>\n",
       "  <tbody>\n",
       "    <tr>\n",
       "      <th>0</th>\n",
       "      <td>2</td>\n",
       "      <td>6/10/2021</td>\n",
       "      <td>10/12/2021</td>\n",
       "      <td>NaN</td>\n",
       "      <td>DOSIS: 2</td>\n",
       "      <td>0</td>\n",
       "      <td>NO UCI</td>\n",
       "      <td>0</td>\n",
       "      <td>NO FALLECIDO</td>\n",
       "    </tr>\n",
       "    <tr>\n",
       "      <th>1</th>\n",
       "      <td>0</td>\n",
       "      <td>NaN</td>\n",
       "      <td>NaN</td>\n",
       "      <td>NaN</td>\n",
       "      <td>SIN VACUNA</td>\n",
       "      <td>0</td>\n",
       "      <td>NO UCI</td>\n",
       "      <td>0</td>\n",
       "      <td>NO FALLECIDO</td>\n",
       "    </tr>\n",
       "    <tr>\n",
       "      <th>2</th>\n",
       "      <td>3</td>\n",
       "      <td>11/02/2021</td>\n",
       "      <td>19/07/2021</td>\n",
       "      <td>30/12/2021</td>\n",
       "      <td>DOSIS: 3</td>\n",
       "      <td>0</td>\n",
       "      <td>NO UCI</td>\n",
       "      <td>0</td>\n",
       "      <td>NO FALLECIDO</td>\n",
       "    </tr>\n",
       "    <tr>\n",
       "      <th>3</th>\n",
       "      <td>2</td>\n",
       "      <td>3/05/2021</td>\n",
       "      <td>24/05/2021</td>\n",
       "      <td>NaN</td>\n",
       "      <td>DOSIS: 2</td>\n",
       "      <td>0</td>\n",
       "      <td>NO UCI</td>\n",
       "      <td>0</td>\n",
       "      <td>NO FALLECIDO</td>\n",
       "    </tr>\n",
       "    <tr>\n",
       "      <th>4</th>\n",
       "      <td>3</td>\n",
       "      <td>3/05/2021</td>\n",
       "      <td>25/05/2021</td>\n",
       "      <td>27/11/2021</td>\n",
       "      <td>DOSIS: 3</td>\n",
       "      <td>0</td>\n",
       "      <td>NO UCI</td>\n",
       "      <td>0</td>\n",
       "      <td>NO FALLECIDO</td>\n",
       "    </tr>\n",
       "    <tr>\n",
       "      <th>5</th>\n",
       "      <td>2</td>\n",
       "      <td>4/09/2021</td>\n",
       "      <td>25/09/2021</td>\n",
       "      <td>NaN</td>\n",
       "      <td>DOSIS: 2</td>\n",
       "      <td>0</td>\n",
       "      <td>NO UCI</td>\n",
       "      <td>0</td>\n",
       "      <td>NO FALLECIDO</td>\n",
       "    </tr>\n",
       "    <tr>\n",
       "      <th>6</th>\n",
       "      <td>3</td>\n",
       "      <td>5/07/2021</td>\n",
       "      <td>27/07/2021</td>\n",
       "      <td>24/12/2021</td>\n",
       "      <td>DOSIS: 3</td>\n",
       "      <td>1</td>\n",
       "      <td>UCI</td>\n",
       "      <td>0</td>\n",
       "      <td>NO FALLECIDO</td>\n",
       "    </tr>\n",
       "    <tr>\n",
       "      <th>7</th>\n",
       "      <td>3</td>\n",
       "      <td>14/06/2021</td>\n",
       "      <td>5/07/2021</td>\n",
       "      <td>18/01/2022</td>\n",
       "      <td>DOSIS: 3</td>\n",
       "      <td>0</td>\n",
       "      <td>NO UCI</td>\n",
       "      <td>0</td>\n",
       "      <td>NO FALLECIDO</td>\n",
       "    </tr>\n",
       "    <tr>\n",
       "      <th>8</th>\n",
       "      <td>3</td>\n",
       "      <td>2/06/2021</td>\n",
       "      <td>23/06/2021</td>\n",
       "      <td>3/12/2021</td>\n",
       "      <td>DOSIS: 3</td>\n",
       "      <td>1</td>\n",
       "      <td>UCI</td>\n",
       "      <td>0</td>\n",
       "      <td>NO FALLECIDO</td>\n",
       "    </tr>\n",
       "    <tr>\n",
       "      <th>9</th>\n",
       "      <td>0</td>\n",
       "      <td>NaN</td>\n",
       "      <td>NaN</td>\n",
       "      <td>NaN</td>\n",
       "      <td>SIN VACUNA</td>\n",
       "      <td>0</td>\n",
       "      <td>NO UCI</td>\n",
       "      <td>1</td>\n",
       "      <td>FALLECIDO</td>\n",
       "    </tr>\n",
       "  </tbody>\n",
       "</table>\n",
       "</div>"
      ],
      "text/plain": [
       "   flag_vacuna fecha_dosis1 fecha_dosis2 fecha_dosis3       DOSIS  flag_uci  \\\n",
       "0            2    6/10/2021   10/12/2021          NaN    DOSIS: 2         0   \n",
       "1            0          NaN          NaN          NaN  SIN VACUNA         0   \n",
       "2            3   11/02/2021   19/07/2021   30/12/2021    DOSIS: 3         0   \n",
       "3            2    3/05/2021   24/05/2021          NaN    DOSIS: 2         0   \n",
       "4            3    3/05/2021   25/05/2021   27/11/2021    DOSIS: 3         0   \n",
       "5            2    4/09/2021   25/09/2021          NaN    DOSIS: 2         0   \n",
       "6            3    5/07/2021   27/07/2021   24/12/2021    DOSIS: 3         1   \n",
       "7            3   14/06/2021    5/07/2021   18/01/2022    DOSIS: 3         0   \n",
       "8            3    2/06/2021   23/06/2021    3/12/2021    DOSIS: 3         1   \n",
       "9            0          NaN          NaN          NaN  SIN VACUNA         0   \n",
       "\n",
       "      UCI  cdc_fallecido_covid     FALLECIDO  \n",
       "0  NO UCI                    0  NO FALLECIDO  \n",
       "1  NO UCI                    0  NO FALLECIDO  \n",
       "2  NO UCI                    0  NO FALLECIDO  \n",
       "3  NO UCI                    0  NO FALLECIDO  \n",
       "4  NO UCI                    0  NO FALLECIDO  \n",
       "5  NO UCI                    0  NO FALLECIDO  \n",
       "6     UCI                    0  NO FALLECIDO  \n",
       "7  NO UCI                    0  NO FALLECIDO  \n",
       "8     UCI                    0  NO FALLECIDO  \n",
       "9  NO UCI                    1     FALLECIDO  "
      ]
     },
     "execution_count": 60,
     "metadata": {},
     "output_type": "execute_result"
    }
   ],
   "source": [
    "df[['flag_vacuna','fecha_dosis1','fecha_dosis2','fecha_dosis3','DOSIS','flag_uci','UCI','cdc_fallecido_covid','FALLECIDO']].head(10)"
   ]
  },
  {
   "cell_type": "code",
   "execution_count": 61,
   "metadata": {},
   "outputs": [],
   "source": [
    "df.sort_values('DOSIS', inplace=True)"
   ]
  },
  {
   "cell_type": "markdown",
   "metadata": {},
   "source": [
    "## Resultados"
   ]
  },
  {
   "cell_type": "code",
   "execution_count": 62,
   "metadata": {},
   "outputs": [],
   "source": [
    "colors = {\n",
    "    \"SIN VACUNA\": \"#f71b1b\",\n",
    "    \"DOSIS: 2\": \"#f3f71b\",\n",
    "    \"DOSIS: 3\": \"#12e23f\",\n",
    "    \"DOSIS: 1\": \"#f78c1b\",\n",
    "    \"FALLECIDO\": \"#000000\",\n",
    "    \"UCI\": \"#000000\",\n",
    "    \"NO UCI\": \"#1b7ef7\",\n",
    "    \"NO FALLECIDO\": \"#1b7ef7\"\n",
    "}"
   ]
  },
  {
   "cell_type": "code",
   "execution_count": 63,
   "metadata": {},
   "outputs": [
    {
     "data": {
      "image/png": "[encoded data removed]",
      "text/plain": [
       "<Figure size 432x432 with 1 Axes>"
      ]
     },
     "metadata": {
      "needs_background": "light"
     },
     "output_type": "display_data"
    }
   ],
   "source": [
    "sankey(df[\"DOSIS\"], df[\"UCI\"], colorDict=colors)"
   ]
  },
  {
   "cell_type": "code",
   "execution_count": 64,
   "metadata": {},
   "outputs": [
    {
     "name": "stdout",
     "output_type": "stream",
     "text": [
      "novacunados_uci_count: 8910\n",
      "novacunados_nouci_count: 44257\n",
      "dosis1_uci_count: 774\n",
      "dosis1_nouci_count: 5482\n",
      "dosis2_uci_count: 3800\n",
      "dosis2_nouci_count: 30842\n",
      "dosis3_uci_count: 4824\n",
      "dosis3_nouci_count: 38633\n",
      "vacunados_uci_count: 9398\n",
      "vacunados_nouci_count: 74957\n"
     ]
    }
   ],
   "source": [
    "novacunados_uci_count = len(df[(df['flag_vacuna']==0) & (df['UCI']=='UCI')])\n",
    "novacunados_nouci_count = len(df[(df['flag_vacuna']==0) & (df['UCI']=='NO UCI')])\n",
    "\n",
    "dosis1_uci_count = len(df[(df['flag_vacuna']==1) & (df['UCI']=='UCI')])\n",
    "dosis1_nouci_count = len(df[(df['flag_vacuna']==1) & (df['UCI']=='NO UCI')])\n",
    "\n",
    "dosis2_uci_count = len(df[(df['flag_vacuna']==2) & (df['UCI']=='UCI')])\n",
    "dosis2_nouci_count = len(df[(df['flag_vacuna']==2) & (df['UCI']=='NO UCI')])\n",
    "\n",
    "dosis3_uci_count = len(df[(df['flag_vacuna']==3) & (df['UCI']=='UCI')])\n",
    "dosis3_nouci_count = len(df[(df['flag_vacuna']==3) & (df['UCI']=='NO UCI')])\n",
    "\n",
    "vacunados_uci_count = len(df[(df['flag_vacuna']>0) & (df['UCI']=='UCI')])\n",
    "vacunados_nouci_count = len(df[(df['flag_vacuna']>0) & (df['UCI']=='NO UCI')])\n",
    "\n",
    "\n",
    "print(f'novacunados_uci_count: {novacunados_uci_count}')\n",
    "print(f'novacunados_nouci_count: {novacunados_nouci_count}')\n",
    "\n",
    "print(f'dosis1_uci_count: {dosis1_uci_count}')\n",
    "print(f'dosis1_nouci_count: {dosis1_nouci_count}')\n",
    "\n",
    "print(f'dosis2_uci_count: {dosis2_uci_count}')\n",
    "print(f'dosis2_nouci_count: {dosis2_nouci_count}')\n",
    "\n",
    "print(f'dosis3_uci_count: {dosis3_uci_count}')\n",
    "print(f'dosis3_nouci_count: {dosis3_nouci_count}')\n",
    "\n",
    "print(f'vacunados_uci_count: {vacunados_uci_count}')\n",
    "print(f'vacunados_nouci_count: {vacunados_nouci_count}')"
   ]
  },
  {
   "cell_type": "code",
   "execution_count": 70,
   "metadata": {},
   "outputs": [
    {
     "data": {
      "application/vnd.plotly.v1+json": {
       "config": {
        "plotlyServerURL": "https://plot.ly"
       },
       "data": [
        {
         "link": {
          "color": [
           "lightcoral",
           "peachpuff",
           "lemonchiffon",
           "lightgreen",
           "lightcoral",
           "peachpuff",
           "lemonchiffon",
           "lightgreen"
          ],
          "source": [
           0,
           1,
           2,
           3,
           0,
           1,
           2,
           3
          ],
          "target": [
           4,
           4,
           4,
           4,
           5,
           5,
           5,
           5
          ],
          "value": [
           8910,
           774,
           3800,
           4824,
           44257,
           5482,
           30842,
           38633
          ]
         },
         "node": {
          "color": [
           "#f71b1b",
           "#f78c1b",
           "#f3f71b",
           "#12e23f",
           "#000000",
           "#1b7ef7"
          ],
          "label": [
           "SIN VACUNA",
           "DOSIS: 1",
           "DOSIS: 2",
           "DOSIS: 3",
           "UCI",
           "NO UCI"
          ],
          "line": {
           "color": "black",
           "width": 0.5
          },
          "pad": 15,
          "thickness": 15
         },
         "type": "sankey"
        }
       ],
       "layout": {
        "annotations": [
         {
          "align": "right",
          "showarrow": false,
          "text": "Fuente: https://www.datosabiertos.gob.pe/dataset/hospitalizados-vacunados-y-fallecidos-por-covid-19<br>\n            Autor: https://malexandersalazar.github.io/, Moisés Alexander Salazar Vila, 2022-03-21",
          "x": 1,
          "xanchor": "right",
          "y": 0,
          "yanchor": "top"
         }
        ],
        "font": {
         "size": 14
        },
        "height": 768,
        "template": {
         "data": {
          "bar": [
           {
            "error_x": {
             "color": "#2a3f5f"
            },
            "error_y": {
             "color": "#2a3f5f"
            },
            "marker": {
             "line": {
              "color": "#E5ECF6",
              "width": 0.5
             }
            },
            "type": "bar"
           }
          ],
          "barpolar": [
           {
            "marker": {
             "line": {
              "color": "#E5ECF6",
              "width": 0.5
             }
            },
            "type": "barpolar"
           }
          ],
          "carpet": [
           {
            "aaxis": {
             "endlinecolor": "#2a3f5f",
             "gridcolor": "white",
             "linecolor": "white",
             "minorgridcolor": "white",
             "startlinecolor": "#2a3f5f"
            },
            "baxis": {
             "endlinecolor": "#2a3f5f",
             "gridcolor": "white",
             "linecolor": "white",
             "minorgridcolor": "white",
             "startlinecolor": "#2a3f5f"
            },
            "type": "carpet"
           }
          ],
          "choropleth": [
           {
            "colorbar": {
             "outlinewidth": 0,
             "ticks": ""
            },
            "type": "choropleth"
           }
          ],
          "contour": [
           {
            "colorbar": {
             "outlinewidth": 0,
             "ticks": ""
            },
            "colorscale": [
             [
              0,
              "#0d0887"
             ],
             [
              0.1111111111111111,
              "#46039f"
             ],
             [
              0.2222222222222222,
              "#7201a8"
             ],
             [
              0.3333333333333333,
              "#9c179e"
             ],
             [
              0.4444444444444444,
              "#bd3786"
             ],
             [
              0.5555555555555556,
              "#d8576b"
             ],
             [
              0.6666666666666666,
              "#ed7953"
             ],
             [
              0.7777777777777778,
              "#fb9f3a"
             ],
             [
              0.8888888888888888,
              "#fdca26"
             ],
             [
              1,
              "#f0f921"
             ]
            ],
            "type": "contour"
           }
          ],
          "contourcarpet": [
           {
            "colorbar": {
             "outlinewidth": 0,
             "ticks": ""
            },
            "type": "contourcarpet"
           }
          ],
          "heatmap": [
           {
            "colorbar": {
             "outlinewidth": 0,
             "ticks": ""
            },
            "colorscale": [
             [
              0,
              "#0d0887"
             ],
             [
              0.1111111111111111,
              "#46039f"
             ],
             [
              0.2222222222222222,
              "#7201a8"
             ],
             [
              0.3333333333333333,
              "#9c179e"
             ],
             [
              0.4444444444444444,
              "#bd3786"
             ],
             [
              0.5555555555555556,
              "#d8576b"
             ],
             [
              0.6666666666666666,
              "#ed7953"
             ],
             [
              0.7777777777777778,
              "#fb9f3a"
             ],
             [
              0.8888888888888888,
              "#fdca26"
             ],
             [
              1,
              "#f0f921"
             ]
            ],
            "type": "heatmap"
           }
          ],
          "heatmapgl": [
           {
            "colorbar": {
             "outlinewidth": 0,
             "ticks": ""
            },
            "colorscale": [
             [
              0,
              "#0d0887"
             ],
             [
              0.1111111111111111,
              "#46039f"
             ],
             [
              0.2222222222222222,
              "#7201a8"
             ],
             [
              0.3333333333333333,
              "#9c179e"
             ],
             [
              0.4444444444444444,
              "#bd3786"
             ],
             [
              0.5555555555555556,
              "#d8576b"
             ],
             [
              0.6666666666666666,
              "#ed7953"
             ],
             [
              0.7777777777777778,
              "#fb9f3a"
             ],
             [
              0.8888888888888888,
              "#fdca26"
             ],
             [
              1,
              "#f0f921"
             ]
            ],
            "type": "heatmapgl"
           }
          ],
          "histogram": [
           {
            "marker": {
             "colorbar": {
              "outlinewidth": 0,
              "ticks": ""
             }
            },
            "type": "histogram"
           }
          ],
          "histogram2d": [
           {
            "colorbar": {
             "outlinewidth": 0,
             "ticks": ""
            },
            "colorscale": [
             [
              0,
              "#0d0887"
             ],
             [
              0.1111111111111111,
              "#46039f"
             ],
             [
              0.2222222222222222,
              "#7201a8"
             ],
             [
              0.3333333333333333,
              "#9c179e"
             ],
             [
              0.4444444444444444,
              "#bd3786"
             ],
             [
              0.5555555555555556,
              "#d8576b"
             ],
             [
              0.6666666666666666,
              "#ed7953"
             ],
             [
              0.7777777777777778,
              "#fb9f3a"
             ],
             [
              0.8888888888888888,
              "#fdca26"
             ],
             [
              1,
              "#f0f921"
             ]
            ],
            "type": "histogram2d"
           }
          ],
          "histogram2dcontour": [
           {
            "colorbar": {
             "outlinewidth": 0,
             "ticks": ""
            },
            "colorscale": [
             [
              0,
              "#0d0887"
             ],
             [
              0.1111111111111111,
              "#46039f"
             ],
             [
              0.2222222222222222,
              "#7201a8"
             ],
             [
              0.3333333333333333,
              "#9c179e"
             ],
             [
              0.4444444444444444,
              "#bd3786"
             ],
             [
              0.5555555555555556,
              "#d8576b"
             ],
             [
              0.6666666666666666,
              "#ed7953"
             ],
             [
              0.7777777777777778,
              "#fb9f3a"
             ],
             [
              0.8888888888888888,
              "#fdca26"
             ],
             [
              1,
              "#f0f921"
             ]
            ],
            "type": "histogram2dcontour"
           }
          ],
          "mesh3d": [
           {
            "colorbar": {
             "outlinewidth": 0,
             "ticks": ""
            },
            "type": "mesh3d"
           }
          ],
          "parcoords": [
           {
            "line": {
             "colorbar": {
              "outlinewidth": 0,
              "ticks": ""
             }
            },
            "type": "parcoords"
           }
          ],
          "pie": [
           {
            "automargin": true,
            "type": "pie"
           }
          ],
          "scatter": [
           {
            "marker": {
             "colorbar": {
              "outlinewidth": 0,
              "ticks": ""
             }
            },
            "type": "scatter"
           }
          ],
          "scatter3d": [
           {
            "line": {
             "colorbar": {
              "outlinewidth": 0,
              "ticks": ""
             }
            },
            "marker": {
             "colorbar": {
              "outlinewidth": 0,
              "ticks": ""
             }
            },
            "type": "scatter3d"
           }
          ],
          "scattercarpet": [
           {
            "marker": {
             "colorbar": {
              "outlinewidth": 0,
              "ticks": ""
             }
            },
            "type": "scattercarpet"
           }
          ],
          "scattergeo": [
           {
            "marker": {
             "colorbar": {
              "outlinewidth": 0,
              "ticks": ""
             }
            },
            "type": "scattergeo"
           }
          ],
          "scattergl": [
           {
            "marker": {
             "colorbar": {
              "outlinewidth": 0,
              "ticks": ""
             }
            },
            "type": "scattergl"
           }
          ],
          "scattermapbox": [
           {
            "marker": {
             "colorbar": {
              "outlinewidth": 0,
              "ticks": ""
             }
            },
            "type": "scattermapbox"
           }
          ],
          "scatterpolar": [
           {
            "marker": {
             "colorbar": {
              "outlinewidth": 0,
              "ticks": ""
             }
            },
            "type": "scatterpolar"
           }
          ],
          "scatterpolargl": [
           {
            "marker": {
             "colorbar": {
              "outlinewidth": 0,
              "ticks": ""
             }
            },
            "type": "scatterpolargl"
           }
          ],
          "scatterternary": [
           {
            "marker": {
             "colorbar": {
              "outlinewidth": 0,
              "ticks": ""
             }
            },
            "type": "scatterternary"
           }
          ],
          "surface": [
           {
            "colorbar": {
             "outlinewidth": 0,
             "ticks": ""
            },
            "colorscale": [
             [
              0,
              "#0d0887"
             ],
             [
              0.1111111111111111,
              "#46039f"
             ],
             [
              0.2222222222222222,
              "#7201a8"
             ],
             [
              0.3333333333333333,
              "#9c179e"
             ],
             [
              0.4444444444444444,
              "#bd3786"
             ],
             [
              0.5555555555555556,
              "#d8576b"
             ],
             [
              0.6666666666666666,
              "#ed7953"
             ],
             [
              0.7777777777777778,
              "#fb9f3a"
             ],
             [
              0.8888888888888888,
              "#fdca26"
             ],
             [
              1,
              "#f0f921"
             ]
            ],
            "type": "surface"
           }
          ],
          "table": [
           {
            "cells": {
             "fill": {
              "color": "#EBF0F8"
             },
             "line": {
              "color": "white"
             }
            },
            "header": {
             "fill": {
              "color": "#C8D4E3"
             },
             "line": {
              "color": "white"
             }
            },
            "type": "table"
           }
          ]
         },
         "layout": {
          "annotationdefaults": {
           "arrowcolor": "#2a3f5f",
           "arrowhead": 0,
           "arrowwidth": 1
          },
          "autotypenumbers": "strict",
          "coloraxis": {
           "colorbar": {
            "outlinewidth": 0,
            "ticks": ""
           }
          },
          "colorscale": {
           "diverging": [
            [
             0,
             "#8e0152"
            ],
            [
             0.1,
             "#c51b7d"
            ],
            [
             0.2,
             "#de77ae"
            ],
            [
             0.3,
             "#f1b6da"
            ],
            [
             0.4,
             "#fde0ef"
            ],
            [
             0.5,
             "#f7f7f7"
            ],
            [
             0.6,
             "#e6f5d0"
            ],
            [
             0.7,
             "#b8e186"
            ],
            [
             0.8,
             "#7fbc41"
            ],
            [
             0.9,
             "#4d9221"
            ],
            [
             1,
             "#276419"
            ]
           ],
           "sequential": [
            [
             0,
             "#0d0887"
            ],
            [
             0.1111111111111111,
             "#46039f"
            ],
            [
             0.2222222222222222,
             "#7201a8"
            ],
            [
             0.3333333333333333,
             "#9c179e"
            ],
            [
             0.4444444444444444,
             "#bd3786"
            ],
            [
             0.5555555555555556,
             "#d8576b"
            ],
            [
             0.6666666666666666,
             "#ed7953"
            ],
            [
             0.7777777777777778,
             "#fb9f3a"
            ],
            [
             0.8888888888888888,
             "#fdca26"
            ],
            [
             1,
             "#f0f921"
            ]
           ],
           "sequentialminus": [
            [
             0,
             "#0d0887"
            ],
            [
             0.1111111111111111,
             "#46039f"
            ],
            [
             0.2222222222222222,
             "#7201a8"
            ],
            [
             0.3333333333333333,
             "#9c179e"
            ],
            [
             0.4444444444444444,
             "#bd3786"
            ],
            [
             0.5555555555555556,
             "#d8576b"
            ],
            [
             0.6666666666666666,
             "#ed7953"
            ],
            [
             0.7777777777777778,
             "#fb9f3a"
            ],
            [
             0.8888888888888888,
             "#fdca26"
            ],
            [
             1,
             "#f0f921"
            ]
           ]
          },
          "colorway": [
           "#636efa",
           "#EF553B",
           "#00cc96",
           "#ab63fa",
           "#FFA15A",
           "#19d3f3",
           "#FF6692",
           "#B6E880",
           "#FF97FF",
           "#FECB52"
          ],
          "font": {
           "color": "#2a3f5f"
          },
          "geo": {
           "bgcolor": "white",
           "lakecolor": "white",
           "landcolor": "#E5ECF6",
           "showlakes": true,
           "showland": true,
           "subunitcolor": "white"
          },
          "hoverlabel": {
           "align": "left"
          },
          "hovermode": "closest",
          "mapbox": {
           "style": "light"
          },
          "paper_bgcolor": "white",
          "plot_bgcolor": "#E5ECF6",
          "polar": {
           "angularaxis": {
            "gridcolor": "white",
            "linecolor": "white",
            "ticks": ""
           },
           "bgcolor": "#E5ECF6",
           "radialaxis": {
            "gridcolor": "white",
            "linecolor": "white",
            "ticks": ""
           }
          },
          "scene": {
           "xaxis": {
            "backgroundcolor": "#E5ECF6",
            "gridcolor": "white",
            "gridwidth": 2,
            "linecolor": "white",
            "showbackground": true,
            "ticks": "",
            "zerolinecolor": "white"
           },
           "yaxis": {
            "backgroundcolor": "#E5ECF6",
            "gridcolor": "white",
            "gridwidth": 2,
            "linecolor": "white",
            "showbackground": true,
            "ticks": "",
            "zerolinecolor": "white"
           },
           "zaxis": {
            "backgroundcolor": "#E5ECF6",
            "gridcolor": "white",
            "gridwidth": 2,
            "linecolor": "white",
            "showbackground": true,
            "ticks": "",
            "zerolinecolor": "white"
           }
          },
          "shapedefaults": {
           "line": {
            "color": "#2a3f5f"
           }
          },
          "ternary": {
           "aaxis": {
            "gridcolor": "white",
            "linecolor": "white",
            "ticks": ""
           },
           "baxis": {
            "gridcolor": "white",
            "linecolor": "white",
            "ticks": ""
           },
           "bgcolor": "#E5ECF6",
           "caxis": {
            "gridcolor": "white",
            "linecolor": "white",
            "ticks": ""
           }
          },
          "title": {
           "x": 0.05
          },
          "xaxis": {
           "automargin": true,
           "gridcolor": "white",
           "linecolor": "white",
           "ticks": "",
           "title": {
            "standoff": 15
           },
           "zerolinecolor": "white",
           "zerolinewidth": 2
          },
          "yaxis": {
           "automargin": true,
           "gridcolor": "white",
           "linecolor": "white",
           "ticks": "",
           "title": {
            "standoff": 15
           },
           "zerolinecolor": "white",
           "zerolinewidth": 2
          }
         }
        },
        "title": {
         "text": "FLUJO DE PACIENTES QUE LLEGAN A UCI SEGÚN ESTADO DE VACUNACIÓN"
        },
        "width": 1024
       }
      }
     },
     "metadata": {},
     "output_type": "display_data"
    }
   ],
   "source": [
    "fig = go.Figure(data=[go.Sankey(\n",
    "    node = dict(\n",
    "      pad = 15,\n",
    "      thickness = 15,\n",
    "      line = dict(color = \"black\", width = 0.5),\n",
    "      label =  ['SIN VACUNA','DOSIS: 1','DOSIS: 2','DOSIS: 3','UCI','NO UCI'],\n",
    "      color = ['#f71b1b','#f78c1b','#f3f71b','#12e23f','#000000','#1b7ef7']\n",
    "    ),\n",
    "    link = dict(\n",
    "      source = [0, 1, 2, 3, 0, 1, 2, 3],\n",
    "      target = [4, 4, 4, 4, 5, 5, 5, 5],\n",
    "      value = [8910, 774, 3800, 4824, 44257, 5482, 30842, 38633],\n",
    "      color = ['lightcoral','peachpuff','lemonchiffon','lightgreen','lightcoral','peachpuff','lemonchiffon','lightgreen']\n",
    "  ))])\n",
    "\n",
    "fig.update_layout(title_text=\"FLUJO DE PACIENTES QUE LLEGAN A UCI SEGÚN ESTADO DE VACUNACIÓN\",\n",
    "                  width=1024,\n",
    "                  height=768,\n",
    "                  font_size=14)\n",
    "\n",
    "fig.add_annotation(go.layout.Annotation(\n",
    "            showarrow=False,\n",
    "            text=\"\"\"Fuente: https://www.datosabiertos.gob.pe/dataset/hospitalizados-vacunados-y-fallecidos-por-covid-19<br>\n",
    "            Autor: https://malexandersalazar.github.io/, Moisés Alexander Salazar Vila, \"\"\" + f'{DateTime.now():%Y-%m-%d}',\n",
    "            xanchor='right',\n",
    "            x=1,\n",
    "            yanchor='top',\n",
    "            y=0,\n",
    "            align='right'\n",
    "        ))\n",
    "\n",
    "fig.show()"
   ]
  },
  {
   "cell_type": "code",
   "execution_count": 66,
   "metadata": {},
   "outputs": [
    {
     "data": {
      "image/png": "[encoded data removed]",
      "text/plain": [
       "<Figure size 432x432 with 1 Axes>"
      ]
     },
     "metadata": {
      "needs_background": "light"
     },
     "output_type": "display_data"
    }
   ],
   "source": [
    "sankey(df[\"DOSIS\"], df[\"FALLECIDO\"], colorDict=colors)"
   ]
  },
  {
   "cell_type": "code",
   "execution_count": 67,
   "metadata": {},
   "outputs": [
    {
     "name": "stdout",
     "output_type": "stream",
     "text": [
      "novacunados_fallecido_count: 35254\n",
      "novacunados_nofallecido_count: 17913\n",
      "dosis1_fallecido_count: 959\n",
      "dosis1_nofallecido_count: 5297\n",
      "dosis2_fallecido_count: 1347\n",
      "dosis2_nofallecido_count: 33295\n",
      "dosis3_fallecido_count: 261\n",
      "dosis3_nofallecido_count: 43196\n",
      "vacunados_fallecido_count: 2567\n",
      "vacunados_nofallecido_count: 81788\n"
     ]
    }
   ],
   "source": [
    "novacunados_fallecido_count = len(df[(df['flag_vacuna']==0) & (df['FALLECIDO']=='FALLECIDO')])\n",
    "novacunados_nofallecido_count = len(df[(df['flag_vacuna']==0) & (df['FALLECIDO']=='NO FALLECIDO')])\n",
    "\n",
    "dosis1_fallecido_count = len(df[(df['flag_vacuna']==1) & (df['FALLECIDO']=='FALLECIDO')])\n",
    "dosis1_nofallecido_count = len(df[(df['flag_vacuna']==1) & (df['FALLECIDO']=='NO FALLECIDO')])\n",
    "\n",
    "dosis2_fallecido_count = len(df[(df['flag_vacuna']==2) & (df['FALLECIDO']=='FALLECIDO')])\n",
    "dosis2_nofallecido_count = len(df[(df['flag_vacuna']==2) & (df['FALLECIDO']=='NO FALLECIDO')])\n",
    "\n",
    "dosis3_fallecido_count = len(df[(df['flag_vacuna']==3) & (df['FALLECIDO']=='FALLECIDO')])\n",
    "dosis3_nofallecido_count = len(df[(df['flag_vacuna']==3) & (df['FALLECIDO']=='NO FALLECIDO')])\n",
    "\n",
    "vacunados_fallecido_count = len(df[(df['flag_vacuna']>0) & (df['FALLECIDO']=='FALLECIDO')])\n",
    "vacunados_nofallecido_count = len(df[(df['flag_vacuna']>0) & (df['FALLECIDO']=='NO FALLECIDO')])\n",
    "\n",
    "\n",
    "print(f'novacunados_fallecido_count: {novacunados_fallecido_count}')\n",
    "print(f'novacunados_nofallecido_count: {novacunados_nofallecido_count}')\n",
    "\n",
    "print(f'dosis1_fallecido_count: {dosis1_fallecido_count}')\n",
    "print(f'dosis1_nofallecido_count: {dosis1_nofallecido_count}')\n",
    "\n",
    "print(f'dosis2_fallecido_count: {dosis2_fallecido_count}')\n",
    "print(f'dosis2_nofallecido_count: {dosis2_nofallecido_count}')\n",
    "\n",
    "print(f'dosis3_fallecido_count: {dosis3_fallecido_count}')\n",
    "print(f'dosis3_nofallecido_count: {dosis3_nofallecido_count}')\n",
    "\n",
    "print(f'vacunados_fallecido_count: {vacunados_fallecido_count}')\n",
    "print(f'vacunados_nofallecido_count: {vacunados_nofallecido_count}')"
   ]
  },
  {
   "cell_type": "code",
   "execution_count": 68,
   "metadata": {},
   "outputs": [
    {
     "data": {
      "application/vnd.plotly.v1+json": {
       "config": {
        "plotlyServerURL": "https://plot.ly"
       },
       "data": [
        {
         "link": {
          "color": [
           "lightcoral",
           "peachpuff",
           "lemonchiffon",
           "lightgreen",
           "lightcoral",
           "peachpuff",
           "lemonchiffon",
           "lightgreen"
          ],
          "source": [
           0,
           1,
           2,
           3,
           0,
           1,
           2,
           3
          ],
          "target": [
           4,
           4,
           4,
           4,
           5,
           5,
           5,
           5
          ],
          "value": [
           35254,
           959,
           1347,
           261,
           17913,
           5297,
           33295,
           43196
          ]
         },
         "node": {
          "color": [
           "#f71b1b",
           "#f78c1b",
           "#f3f71b",
           "#12e23f",
           "#000000",
           "#1b7ef7"
          ],
          "label": [
           "SIN VACUNA",
           "DOSIS: 1",
           "DOSIS: 2",
           "DOSIS: 3",
           "FALLECIDO",
           "NO FALLECIDO"
          ],
          "line": {
           "color": "black",
           "width": 0.5
          },
          "pad": 15,
          "thickness": 15
         },
         "type": "sankey"
        }
       ],
       "layout": {
        "annotations": [
         {
          "align": "right",
          "showarrow": false,
          "text": "Fuente: https://www.datosabiertos.gob.pe/dataset/hospitalizados-vacunados-y-fallecidos-por-covid-19<br>\n            Autor: https://malexandersalazar.github.io/, Moisés Alexander Salazar Vila, 2022-03-21",
          "x": 1,
          "xanchor": "right",
          "y": 0,
          "yanchor": "top"
         }
        ],
        "font": {
         "size": 14
        },
        "height": 768,
        "margin": {
         "b": 160
        },
        "template": {
         "data": {
          "bar": [
           {
            "error_x": {
             "color": "#2a3f5f"
            },
            "error_y": {
             "color": "#2a3f5f"
            },
            "marker": {
             "line": {
              "color": "#E5ECF6",
              "width": 0.5
             }
            },
            "type": "bar"
           }
          ],
          "barpolar": [
           {
            "marker": {
             "line": {
              "color": "#E5ECF6",
              "width": 0.5
             }
            },
            "type": "barpolar"
           }
          ],
          "carpet": [
           {
            "aaxis": {
             "endlinecolor": "#2a3f5f",
             "gridcolor": "white",
             "linecolor": "white",
             "minorgridcolor": "white",
             "startlinecolor": "#2a3f5f"
            },
            "baxis": {
             "endlinecolor": "#2a3f5f",
             "gridcolor": "white",
             "linecolor": "white",
             "minorgridcolor": "white",
             "startlinecolor": "#2a3f5f"
            },
            "type": "carpet"
           }
          ],
          "choropleth": [
           {
            "colorbar": {
             "outlinewidth": 0,
             "ticks": ""
            },
            "type": "choropleth"
           }
          ],
          "contour": [
           {
            "colorbar": {
             "outlinewidth": 0,
             "ticks": ""
            },
            "colorscale": [
             [
              0,
              "#0d0887"
             ],
             [
              0.1111111111111111,
              "#46039f"
             ],
             [
              0.2222222222222222,
              "#7201a8"
             ],
             [
              0.3333333333333333,
              "#9c179e"
             ],
             [
              0.4444444444444444,
              "#bd3786"
             ],
             [
              0.5555555555555556,
              "#d8576b"
             ],
             [
              0.6666666666666666,
              "#ed7953"
             ],
             [
              0.7777777777777778,
              "#fb9f3a"
             ],
             [
              0.8888888888888888,
              "#fdca26"
             ],
             [
              1,
              "#f0f921"
             ]
            ],
            "type": "contour"
           }
          ],
          "contourcarpet": [
           {
            "colorbar": {
             "outlinewidth": 0,
             "ticks": ""
            },
            "type": "contourcarpet"
           }
          ],
          "heatmap": [
           {
            "colorbar": {
             "outlinewidth": 0,
             "ticks": ""
            },
            "colorscale": [
             [
              0,
              "#0d0887"
             ],
             [
              0.1111111111111111,
              "#46039f"
             ],
             [
              0.2222222222222222,
              "#7201a8"
             ],
             [
              0.3333333333333333,
              "#9c179e"
             ],
             [
              0.4444444444444444,
              "#bd3786"
             ],
             [
              0.5555555555555556,
              "#d8576b"
             ],
             [
              0.6666666666666666,
              "#ed7953"
             ],
             [
              0.7777777777777778,
              "#fb9f3a"
             ],
             [
              0.8888888888888888,
              "#fdca26"
             ],
             [
              1,
              "#f0f921"
             ]
            ],
            "type": "heatmap"
           }
          ],
          "heatmapgl": [
           {
            "colorbar": {
             "outlinewidth": 0,
             "ticks": ""
            },
            "colorscale": [
             [
              0,
              "#0d0887"
             ],
             [
              0.1111111111111111,
              "#46039f"
             ],
             [
              0.2222222222222222,
              "#7201a8"
             ],
             [
              0.3333333333333333,
              "#9c179e"
             ],
             [
              0.4444444444444444,
              "#bd3786"
             ],
             [
              0.5555555555555556,
              "#d8576b"
             ],
             [
              0.6666666666666666,
              "#ed7953"
             ],
             [
              0.7777777777777778,
              "#fb9f3a"
             ],
             [
              0.8888888888888888,
              "#fdca26"
             ],
             [
              1,
              "#f0f921"
             ]
            ],
            "type": "heatmapgl"
           }
          ],
          "histogram": [
           {
            "marker": {
             "colorbar": {
              "outlinewidth": 0,
              "ticks": ""
             }
            },
            "type": "histogram"
           }
          ],
          "histogram2d": [
           {
            "colorbar": {
             "outlinewidth": 0,
             "ticks": ""
            },
            "colorscale": [
             [
              0,
              "#0d0887"
             ],
             [
              0.1111111111111111,
              "#46039f"
             ],
             [
              0.2222222222222222,
              "#7201a8"
             ],
             [
              0.3333333333333333,
              "#9c179e"
             ],
             [
              0.4444444444444444,
              "#bd3786"
             ],
             [
              0.5555555555555556,
              "#d8576b"
             ],
             [
              0.6666666666666666,
              "#ed7953"
             ],
             [
              0.7777777777777778,
              "#fb9f3a"
             ],
             [
              0.8888888888888888,
              "#fdca26"
             ],
             [
              1,
              "#f0f921"
             ]
            ],
            "type": "histogram2d"
           }
          ],
          "histogram2dcontour": [
           {
            "colorbar": {
             "outlinewidth": 0,
             "ticks": ""
            },
            "colorscale": [
             [
              0,
              "#0d0887"
             ],
             [
              0.1111111111111111,
              "#46039f"
             ],
             [
              0.2222222222222222,
              "#7201a8"
             ],
             [
              0.3333333333333333,
              "#9c179e"
             ],
             [
              0.4444444444444444,
              "#bd3786"
             ],
             [
              0.5555555555555556,
              "#d8576b"
             ],
             [
              0.6666666666666666,
              "#ed7953"
             ],
             [
              0.7777777777777778,
              "#fb9f3a"
             ],
             [
              0.8888888888888888,
              "#fdca26"
             ],
             [
              1,
              "#f0f921"
             ]
            ],
            "type": "histogram2dcontour"
           }
          ],
          "mesh3d": [
           {
            "colorbar": {
             "outlinewidth": 0,
             "ticks": ""
            },
            "type": "mesh3d"
           }
          ],
          "parcoords": [
           {
            "line": {
             "colorbar": {
              "outlinewidth": 0,
              "ticks": ""
             }
            },
            "type": "parcoords"
           }
          ],
          "pie": [
           {
            "automargin": true,
            "type": "pie"
           }
          ],
          "scatter": [
           {
            "marker": {
             "colorbar": {
              "outlinewidth": 0,
              "ticks": ""
             }
            },
            "type": "scatter"
           }
          ],
          "scatter3d": [
           {
            "line": {
             "colorbar": {
              "outlinewidth": 0,
              "ticks": ""
             }
            },
            "marker": {
             "colorbar": {
              "outlinewidth": 0,
              "ticks": ""
             }
            },
            "type": "scatter3d"
           }
          ],
          "scattercarpet": [
           {
            "marker": {
             "colorbar": {
              "outlinewidth": 0,
              "ticks": ""
             }
            },
            "type": "scattercarpet"
           }
          ],
          "scattergeo": [
           {
            "marker": {
             "colorbar": {
              "outlinewidth": 0,
              "ticks": ""
             }
            },
            "type": "scattergeo"
           }
          ],
          "scattergl": [
           {
            "marker": {
             "colorbar": {
              "outlinewidth": 0,
              "ticks": ""
             }
            },
            "type": "scattergl"
           }
          ],
          "scattermapbox": [
           {
            "marker": {
             "colorbar": {
              "outlinewidth": 0,
              "ticks": ""
             }
            },
            "type": "scattermapbox"
           }
          ],
          "scatterpolar": [
           {
            "marker": {
             "colorbar": {
              "outlinewidth": 0,
              "ticks": ""
             }
            },
            "type": "scatterpolar"
           }
          ],
          "scatterpolargl": [
           {
            "marker": {
             "colorbar": {
              "outlinewidth": 0,
              "ticks": ""
             }
            },
            "type": "scatterpolargl"
           }
          ],
          "scatterternary": [
           {
            "marker": {
             "colorbar": {
              "outlinewidth": 0,
              "ticks": ""
             }
            },
            "type": "scatterternary"
           }
          ],
          "surface": [
           {
            "colorbar": {
             "outlinewidth": 0,
             "ticks": ""
            },
            "colorscale": [
             [
              0,
              "#0d0887"
             ],
             [
              0.1111111111111111,
              "#46039f"
             ],
             [
              0.2222222222222222,
              "#7201a8"
             ],
             [
              0.3333333333333333,
              "#9c179e"
             ],
             [
              0.4444444444444444,
              "#bd3786"
             ],
             [
              0.5555555555555556,
              "#d8576b"
             ],
             [
              0.6666666666666666,
              "#ed7953"
             ],
             [
              0.7777777777777778,
              "#fb9f3a"
             ],
             [
              0.8888888888888888,
              "#fdca26"
             ],
             [
              1,
              "#f0f921"
             ]
            ],
            "type": "surface"
           }
          ],
          "table": [
           {
            "cells": {
             "fill": {
              "color": "#EBF0F8"
             },
             "line": {
              "color": "white"
             }
            },
            "header": {
             "fill": {
              "color": "#C8D4E3"
             },
             "line": {
              "color": "white"
             }
            },
            "type": "table"
           }
          ]
         },
         "layout": {
          "annotationdefaults": {
           "arrowcolor": "#2a3f5f",
           "arrowhead": 0,
           "arrowwidth": 1
          },
          "autotypenumbers": "strict",
          "coloraxis": {
           "colorbar": {
            "outlinewidth": 0,
            "ticks": ""
           }
          },
          "colorscale": {
           "diverging": [
            [
             0,
             "#8e0152"
            ],
            [
             0.1,
             "#c51b7d"
            ],
            [
             0.2,
             "#de77ae"
            ],
            [
             0.3,
             "#f1b6da"
            ],
            [
             0.4,
             "#fde0ef"
            ],
            [
             0.5,
             "#f7f7f7"
            ],
            [
             0.6,
             "#e6f5d0"
            ],
            [
             0.7,
             "#b8e186"
            ],
            [
             0.8,
             "#7fbc41"
            ],
            [
             0.9,
             "#4d9221"
            ],
            [
             1,
             "#276419"
            ]
           ],
           "sequential": [
            [
             0,
             "#0d0887"
            ],
            [
             0.1111111111111111,
             "#46039f"
            ],
            [
             0.2222222222222222,
             "#7201a8"
            ],
            [
             0.3333333333333333,
             "#9c179e"
            ],
            [
             0.4444444444444444,
             "#bd3786"
            ],
            [
             0.5555555555555556,
             "#d8576b"
            ],
            [
             0.6666666666666666,
             "#ed7953"
            ],
            [
             0.7777777777777778,
             "#fb9f3a"
            ],
            [
             0.8888888888888888,
             "#fdca26"
            ],
            [
             1,
             "#f0f921"
            ]
           ],
           "sequentialminus": [
            [
             0,
             "#0d0887"
            ],
            [
             0.1111111111111111,
             "#46039f"
            ],
            [
             0.2222222222222222,
             "#7201a8"
            ],
            [
             0.3333333333333333,
             "#9c179e"
            ],
            [
             0.4444444444444444,
             "#bd3786"
            ],
            [
             0.5555555555555556,
             "#d8576b"
            ],
            [
             0.6666666666666666,
             "#ed7953"
            ],
            [
             0.7777777777777778,
             "#fb9f3a"
            ],
            [
             0.8888888888888888,
             "#fdca26"
            ],
            [
             1,
             "#f0f921"
            ]
           ]
          },
          "colorway": [
           "#636efa",
           "#EF553B",
           "#00cc96",
           "#ab63fa",
           "#FFA15A",
           "#19d3f3",
           "#FF6692",
           "#B6E880",
           "#FF97FF",
           "#FECB52"
          ],
          "font": {
           "color": "#2a3f5f"
          },
          "geo": {
           "bgcolor": "white",
           "lakecolor": "white",
           "landcolor": "#E5ECF6",
           "showlakes": true,
           "showland": true,
           "subunitcolor": "white"
          },
          "hoverlabel": {
           "align": "left"
          },
          "hovermode": "closest",
          "mapbox": {
           "style": "light"
          },
          "paper_bgcolor": "white",
          "plot_bgcolor": "#E5ECF6",
          "polar": {
           "angularaxis": {
            "gridcolor": "white",
            "linecolor": "white",
            "ticks": ""
           },
           "bgcolor": "#E5ECF6",
           "radialaxis": {
            "gridcolor": "white",
            "linecolor": "white",
            "ticks": ""
           }
          },
          "scene": {
           "xaxis": {
            "backgroundcolor": "#E5ECF6",
            "gridcolor": "white",
            "gridwidth": 2,
            "linecolor": "white",
            "showbackground": true,
            "ticks": "",
            "zerolinecolor": "white"
           },
           "yaxis": {
            "backgroundcolor": "#E5ECF6",
            "gridcolor": "white",
            "gridwidth": 2,
            "linecolor": "white",
            "showbackground": true,
            "ticks": "",
            "zerolinecolor": "white"
           },
           "zaxis": {
            "backgroundcolor": "#E5ECF6",
            "gridcolor": "white",
            "gridwidth": 2,
            "linecolor": "white",
            "showbackground": true,
            "ticks": "",
            "zerolinecolor": "white"
           }
          },
          "shapedefaults": {
           "line": {
            "color": "#2a3f5f"
           }
          },
          "ternary": {
           "aaxis": {
            "gridcolor": "white",
            "linecolor": "white",
            "ticks": ""
           },
           "baxis": {
            "gridcolor": "white",
            "linecolor": "white",
            "ticks": ""
           },
           "bgcolor": "#E5ECF6",
           "caxis": {
            "gridcolor": "white",
            "linecolor": "white",
            "ticks": ""
           }
          },
          "title": {
           "x": 0.05
          },
          "xaxis": {
           "automargin": true,
           "gridcolor": "white",
           "linecolor": "white",
           "ticks": "",
           "title": {
            "standoff": 15
           },
           "zerolinecolor": "white",
           "zerolinewidth": 2
          },
          "yaxis": {
           "automargin": true,
           "gridcolor": "white",
           "linecolor": "white",
           "ticks": "",
           "title": {
            "standoff": 15
           },
           "zerolinecolor": "white",
           "zerolinewidth": 2
          }
         }
        },
        "title": {
         "text": "FLUJO DE PACIENTES QUE FALLECEN SEGÚN ESTADO DE VACUNACIÓN"
        },
        "width": 1024
       }
      }
     },
     "metadata": {},
     "output_type": "display_data"
    }
   ],
   "source": [
    "fig = go.Figure(data=[go.Sankey(\n",
    "    node = dict(\n",
    "      pad = 15,\n",
    "      thickness = 15,\n",
    "      line = dict(color = \"black\", width = 0.5),\n",
    "      label =  ['SIN VACUNA','DOSIS: 1','DOSIS: 2','DOSIS: 3','FALLECIDO','NO FALLECIDO'],\n",
    "      color = ['#f71b1b','#f78c1b','#f3f71b','#12e23f','#000000','#1b7ef7']\n",
    "    ),\n",
    "    link = dict(\n",
    "      source = [0, 1, 2, 3, 0, 1, 2, 3],\n",
    "      target = [4, 4, 4, 4, 5, 5, 5, 5],\n",
    "      value = [35254, 959, 1347, 261, 17913, 5297, 33295, 43196],\n",
    "      color = ['lightcoral','peachpuff','lemonchiffon','lightgreen','lightcoral','peachpuff','lemonchiffon','lightgreen']\n",
    "  ))])\n",
    "\n",
    "fig.update_layout(title_text=\"FLUJO DE PACIENTES QUE FALLECEN SEGÚN ESTADO DE VACUNACIÓN\",\n",
    "                  width=1024,\n",
    "                  height=768,\n",
    "                  font_size=14)\n",
    "\n",
    "fig.add_annotation(go.layout.Annotation(\n",
    "            showarrow=False,\n",
    "            text=\"\"\"Fuente: https://www.datosabiertos.gob.pe/dataset/hospitalizados-vacunados-y-fallecidos-por-covid-19<br>\n",
    "            Autor: https://malexandersalazar.github.io/, Moisés Alexander Salazar Vila, \"\"\" + f'{DateTime.now():%Y-%m-%d}',\n",
    "            xanchor='right',\n",
    "            x=1,\n",
    "            yanchor='top',\n",
    "            y=0,\n",
    "            align='right'\n",
    "        ))\n",
    "\n",
    "fig.show()"
   ]
  },
  {
   "cell_type": "code",
   "execution_count": 69,
   "metadata": {},
   "outputs": [
    {
     "name": "stdout",
     "output_type": "stream",
     "text": [
      "13.733541098558629\n"
     ]
    }
   ],
   "source": [
    "ratio = novacunados_fallecido_count / vacunados_fallecido_count\n",
    "print(ratio)"
   ]
  }
 ],
 "metadata": {
  "interpreter": {
   "hash": "cef9e06bb236b2a8629b07e87a04b187b952a0f661eff5533360a155783f0c33"
  },
  "kernelspec": {
   "display_name": "Python 3.8.5 ('base')",
   "language": "python",
   "name": "python3"
  },
  "language_info": {
   "codemirror_mode": {
    "name": "ipython",
    "version": 3
   },
   "file_extension": ".py",
   "mimetype": "text/x-python",
   "name": "python",
   "nbconvert_exporter": "python",
   "pygments_lexer": "ipython3",
   "version": "3.8.5"
  },
  "orig_nbformat": 4
 },
 "nbformat": 4,
 "nbformat_minor": 2
}
